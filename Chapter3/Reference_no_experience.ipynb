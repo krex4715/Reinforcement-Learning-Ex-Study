{
 "cells": [
  {
   "cell_type": "markdown",
   "metadata": {},
   "source": [
    "# 예제 3.5번(임의 탐색)"
   ]
  },
  {
   "cell_type": "markdown",
   "metadata": {},
   "source": [
    "<img src=\"img/문제상황.png\" style=\"width: 500px;\" align=\"left\"/>\n",
    "\n",
    "\n",
    "왼쪽과 같은 문제상황.    \n",
    "5X5 Grid안에서    \n",
    "Action은 상,하,좌,우가 가능함 \n",
    "       \n",
    "이때 5X5 State Value Table을 오른쪽 그림과 같이 만들어 내는것이 문제 "
   ]
  },
  {
   "cell_type": "markdown",
   "metadata": {},
   "source": [
    "여기서는 경험적으로 Value를 탐색하는게 아니라, 임의로 i,j를 하나씩 옮겨가며 탐색함.     \n",
    "이건 실제 Agent랑은 다를거 같아서 다시풀음.\n",
    "     \n",
    "-> 실제 Agent는 임의의 State가아니라 경험에의한 학습이라고 책에 언급되어있기 때문에 "
   ]
  },
  {
   "cell_type": "markdown",
   "metadata": {},
   "source": [
    "reference : https://realdiganta.medium.com/coding-the-gridworld-example-from-deepminds-reinforcement-learning-course-in-python-17d74335fcbc\n",
    "\n"
   ]
  },
  {
   "cell_type": "code",
   "execution_count": 16,
   "metadata": {},
   "outputs": [
    {
     "data": {
      "text/plain": [
       "array([[0., 0., 0., 0., 0.],\n",
       "       [0., 0., 0., 0., 0.],\n",
       "       [0., 0., 0., 0., 0.],\n",
       "       [0., 0., 0., 0., 0.],\n",
       "       [0., 0., 0., 0., 0.]])"
      ]
     },
     "execution_count": 16,
     "metadata": {},
     "output_type": "execute_result"
    }
   ],
   "source": [
    "import numpy as np\n",
    "import matplotlib.pyplot as plt\n",
    "import matplotlib.cm as cm\n",
    "grid = np.zeros((5,5))\n",
    "grid"
   ]
  },
  {
   "cell_type": "code",
   "execution_count": 19,
   "metadata": {},
   "outputs": [],
   "source": [
    "discounting = 0.9 # Discounting Factor\n",
    "\n",
    "\n",
    "for epoch in range(1000):\n",
    "    for i in range(5):\n",
    "        for j in range(5):\n",
    "            up = grid[i][j+1] if j < 4 else 0 \n",
    "            down = grid[i][j-1] if j > 0  else 0\n",
    "            left = grid[i-1][j] if i > 0 else 0\n",
    "            right = grid[i+1][j] if i < 4 else 0\n",
    "            \n",
    "            all_dirs = [up, down, left, right]\n",
    "            \n",
    "            value=0\n",
    "            if i==1 and j==4:\n",
    "                value = 10 + discounting*grid[1][0]\n",
    "            elif i==3 and j==4:\n",
    "                value = 5 + discounting*grid[3][2]\n",
    "            else:\n",
    "                for direc in all_dirs:\n",
    "                    if direc !=0:\n",
    "                        value += 0.25 * (0 + discounting*direc)\n",
    "                    else:\n",
    "                        value += 0.25 *(-1 + discounting*direc)\n",
    "            \n",
    "            # print(value)\n",
    "            grid[i][j] = value"
   ]
  },
  {
   "cell_type": "code",
   "execution_count": 20,
   "metadata": {},
   "outputs": [
    {
     "name": "stdout",
     "output_type": "stream",
     "text": [
      "[[ 1.8  9.5  3.6  5.5  0.8]\n",
      " [ 0.8  3.   2.1  1.9  0.3]\n",
      " [ 0.   0.9  0.8  0.6 -0.2]\n",
      " [-0.4  0.   0.1 -0.1 -0.5]\n",
      " [-0.7 -0.5 -0.5 -0.5 -0.7]]\n"
     ]
    },
    {
     "data": {
      "text/plain": [
       "<matplotlib.image.AxesImage at 0x1b68c624bc8>"
      ]
     },
     "execution_count": 20,
     "metadata": {},
     "output_type": "execute_result"
    },
    {
     "data": {
      "image/png": "[encoded data removed]",
      "text/plain": [
       "<Figure size 432x288 with 1 Axes>"
      ]
     },
     "metadata": {
      "needs_background": "light"
     },
     "output_type": "display_data"
    }
   ],
   "source": [
    "res = []\n",
    "for i in range(5):\n",
    "    res.append(grid[:,-(i-4)])\n",
    "    \n",
    "print(np.round(res,1))\n",
    "plt.imshow(np.array(res),cmap=cm.gray)\n"
   ]
  },
  {
   "cell_type": "markdown",
   "metadata": {},
   "source": [
    "값은 조금 다르나, \n",
    "정상적인 Value분포를 보이는것을 확인"
   ]
  },
  {
   "cell_type": "markdown",
   "metadata": {},
   "source": [
    "# Other Reference"
   ]
  },
  {
   "cell_type": "code",
   "execution_count": 97,
   "metadata": {},
   "outputs": [
    {
     "data": {
      "text/plain": [
       "array([[0., 0., 0., 0., 0.],\n",
       "       [0., 0., 0., 0., 0.],\n",
       "       [0., 0., 0., 0., 0.],\n",
       "       [0., 0., 0., 0., 0.],\n",
       "       [0., 0., 0., 0., 0.]])"
      ]
     },
     "execution_count": 97,
     "metadata": {},
     "output_type": "execute_result"
    }
   ],
   "source": [
    "grid = np.zeros((5,5))\n",
    "grid"
   ]
  },
  {
   "cell_type": "code",
   "execution_count": 98,
   "metadata": {},
   "outputs": [],
   "source": [
    "Y = .90  #discount value\n",
    "for num in range(1000): #number of times we will go through the whole grid\n",
    "  for i in range(5):      #all the rows\n",
    "    for j in range(5):    #all the columns\n",
    "      \n",
    "      up_grid = grid[i-1][j] if i > 0 else 0   #if going up takes us out of the grid then its value be 0\n",
    "      down_grid = grid[i+1][j] if i < 4 else 0  #if going down takes us out of the grid then its value be 0\n",
    "      left_grid = grid[i][j-1] if j > 0 else 0  #if going left takes us out of the grid then its value be 0\n",
    "      right_grid = grid[i][j+1] if j < 4 else 0  #if going right takes us out of the grid then its value be 0\n",
    "\n",
    "      all_dirs = [up_grid, down_grid, left_grid, right_grid]     \n",
    "\n",
    "      value=0  \n",
    "      if i==0 and j==1: # the position of A\n",
    "        value = 10 + Y*grid[4][1]\n",
    "      elif i==0 and j==3: # the position of B\n",
    "        value = 5 + Y*grid[2][3]\n",
    "      else:\n",
    "        for direc in all_dirs:\n",
    "          if direc != 0: \n",
    "            value += .25 * (0 + Y*direc)  #if we don't go out of the grid\n",
    "          else:\n",
    "            value += .25 * (-1 + Y*grid[i][j]) #if we go out of the grid\n",
    "        \n",
    "      grid[i][j] = value   "
   ]
  },
  {
   "cell_type": "code",
   "execution_count": 99,
   "metadata": {},
   "outputs": [
    {
     "data": {
      "text/plain": [
       "array([[ 3.3,  8.8,  4.4,  5.3,  1.5],\n",
       "       [ 1.5,  3. ,  2.3,  1.9,  0.5],\n",
       "       [ 0.1,  0.7,  0.7,  0.4, -0.4],\n",
       "       [-1. , -0.4, -0.4, -0.6, -1.2],\n",
       "       [-1.9, -1.3, -1.2, -1.4, -2. ]])"
      ]
     },
     "execution_count": 99,
     "metadata": {},
     "output_type": "execute_result"
    }
   ],
   "source": [
    "np.round(grid, 1)"
   ]
  },
  {
   "cell_type": "code",
   "execution_count": 100,
   "metadata": {},
   "outputs": [
    {
     "data": {
      "text/plain": [
       "<matplotlib.image.AxesImage at 0x2e60f70f3c8>"
      ]
     },
     "execution_count": 100,
     "metadata": {},
     "output_type": "execute_result"
    },
    {
     "data": {
      "image/png": "[encoded data removed]",
      "text/plain": [
       "<Figure size 432x288 with 1 Axes>"
      ]
     },
     "metadata": {
      "needs_background": "light"
     },
     "output_type": "display_data"
    }
   ],
   "source": [
    "plt.imshow(grid,cmap=cm.gray)"
   ]
  },
  {
   "cell_type": "markdown",
   "metadata": {},
   "source": [
    "인터넷에서 누가 폴어놓은건데,     \n",
    "i,j 탐색하는 순서만 달라진건데 책에서랑 답이 똑같음     \n",
    "      \n",
    "\n",
    "      -> 경향성만 맞으면 상관없는듯"
   ]
  },
  {
   "cell_type": "code",
   "execution_count": null,
   "metadata": {},
   "outputs": [],
   "source": []
  }
 ],
 "metadata": {
  "kernelspec": {
   "display_name": "Python 3.7.12 ('jh')",
   "language": "python",
   "name": "python3"
  },
  "language_info": {
   "codemirror_mode": {
    "name": "ipython",
    "version": 3
   },
   "file_extension": ".py",
   "mimetype": "text/x-python",
   "name": "python",
   "nbconvert_exporter": "python",
   "pygments_lexer": "ipython3",
   "version": "3.7.12"
  },
  "orig_nbformat": 4,
  "vscode": {
   "interpreter": {
    "hash": "4e28e0ce3c061b18b8735c8383d679b1da1ec0cfda74f15b2d90abd70d8d55b3"
   }
  }
 },
 "nbformat": 4,
 "nbformat_minor": 2
}
