{
 "cells": [
  {
   "cell_type": "code",
   "execution_count": 2,
   "metadata": {},
   "outputs": [
    {
     "data": {
      "text/plain": [
       "array([[0., 0., 0., 0., 0.],\n",
       "       [0., 0., 0., 0., 0.],\n",
       "       [0., 0., 0., 0., 0.],\n",
       "       [0., 0., 0., 0., 0.],\n",
       "       [0., 0., 0., 0., 0.]])"
      ]
     },
     "execution_count": 2,
     "metadata": {},
     "output_type": "execute_result"
    }
   ],
   "source": [
    "import numpy as np\n",
    "\n",
    "grid = np.zeros((5,5))\n",
    "grid"
   ]
  },
  {
   "cell_type": "code",
   "execution_count": 3,
   "metadata": {},
   "outputs": [],
   "source": [
    "Y = .90  #discount value\n",
    "for num in range(10): #number of times we will go through the whole grid\n",
    "  for i in range(5):      #all the rows\n",
    "    for j in range(5):    #all the columns\n",
    "      \n",
    "      up_grid = grid[i-1][j] if i > 0 else 0   #if going up takes us out of the grid then its value be 0\n",
    "      down_grid = grid[i+1][j] if i < 4 else 0  #if going down takes us out of the grid then its value be 0\n",
    "      left_grid = grid[i][j-1] if j > 0 else 0  #if going left takes us out of the grid then its value be 0\n",
    "      right_grid = grid[i][j+1] if j < 4 else 0  #if going right takes us out of the grid then its value be 0\n",
    "\n",
    "      all_dirs = [up_grid, down_grid, left_grid, right_grid]     \n",
    "\n",
    "      value=0  \n",
    "      if i==0 and j==1: # the position of A\n",
    "        value = 10 + Y*grid[4][1]\n",
    "      elif i==0 and j==3: # the position of B\n",
    "        value = 5 + Y*grid[2][3]\n",
    "      else:\n",
    "        for direc in all_dirs:\n",
    "          if direc != 0: \n",
    "            value += .25 * (0 + Y*direc)  #if we don't go out of the grid\n",
    "          else:\n",
    "            value += .25 * (-1 + Y*grid[i][j]) #if we go out of the grid\n",
    "        \n",
    "      grid[i][j] = value   "
   ]
  },
  {
   "cell_type": "code",
   "execution_count": 4,
   "metadata": {},
   "outputs": [
    {
     "data": {
      "text/plain": [
       "array([[ 3.3,  8.8,  4.4,  5.3,  1.5],\n",
       "       [ 1.5,  3. ,  2.2,  1.9,  0.5],\n",
       "       [ 0. ,  0.7,  0.7,  0.4, -0.4],\n",
       "       [-1. , -0.4, -0.3, -0.6, -1.2],\n",
       "       [-1.9, -1.3, -1.2, -1.4, -1.9]])"
      ]
     },
     "execution_count": 4,
     "metadata": {},
     "output_type": "execute_result"
    }
   ],
   "source": [
    "np.round(grid, 1)"
   ]
  },
  {
   "cell_type": "code",
   "execution_count": null,
   "metadata": {},
   "outputs": [],
   "source": []
  }
 ],
 "metadata": {
  "kernelspec": {
   "display_name": "Python 3.7.12 ('jh')",
   "language": "python",
   "name": "python3"
  },
  "language_info": {
   "codemirror_mode": {
    "name": "ipython",
    "version": 3
   },
   "file_extension": ".py",
   "mimetype": "text/x-python",
   "name": "python",
   "nbconvert_exporter": "python",
   "pygments_lexer": "ipython3",
   "version": "3.7.12"
  },
  "orig_nbformat": 4,
  "vscode": {
   "interpreter": {
    "hash": "4e28e0ce3c061b18b8735c8383d679b1da1ec0cfda74f15b2d90abd70d8d55b3"
   }
  }
 },
 "nbformat": 4,
 "nbformat_minor": 2
}
